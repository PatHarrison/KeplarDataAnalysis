{
 "cells": [
  {
   "cell_type": "markdown",
   "metadata": {},
   "source": [
    "# Data Cleaning and Import into mySQL Database\n",
    "\n",
    "#### DATA 311 | Patrick Harrison"
   ]
  },
  {
   "cell_type": "code",
   "execution_count": 1,
   "metadata": {},
   "outputs": [],
   "source": [
    "import pandas as pd\n",
    "import numpy as np\n",
    "from pprint import pprint\n",
    "\n",
    "from mysql import connector\n",
    "from mysql.connector import Error\n",
    "\n",
    "import logging\n",
    "logging.getLogger(__name__)\n",
    "logging.basicConfig(filename=\"DataImport.log\",\n",
    "                    level=logging.INFO,\n",
    "                    format=\"[%(asctime)s] %(levelname)s: %(message)s\",\n",
    "                    filemode=\"w\")\n",
    "logging.info(\"Import File Started\")"
   ]
  },
  {
   "cell_type": "markdown",
   "metadata": {},
   "source": [
    "<hr>\n",
    "\n",
    "### Import the data into pandas dataframe object"
   ]
  },
  {
   "cell_type": "code",
   "execution_count": 2,
   "metadata": {},
   "outputs": [
    {
     "data": {
      "text/html": [
       "<div>\n",
       "<style scoped>\n",
       "    .dataframe tbody tr th:only-of-type {\n",
       "        vertical-align: middle;\n",
       "    }\n",
       "\n",
       "    .dataframe tbody tr th {\n",
       "        vertical-align: top;\n",
       "    }\n",
       "\n",
       "    .dataframe thead th {\n",
       "        text-align: right;\n",
       "    }\n",
       "</style>\n",
       "<table border=\"1\" class=\"dataframe\">\n",
       "  <thead>\n",
       "    <tr style=\"text-align: right;\">\n",
       "      <th></th>\n",
       "      <th>rowid</th>\n",
       "      <th>kepid</th>\n",
       "      <th>kepoi_name</th>\n",
       "      <th>kepler_name</th>\n",
       "      <th>koi_disposition</th>\n",
       "      <th>koi_vet_stat</th>\n",
       "      <th>koi_vet_date</th>\n",
       "      <th>koi_pdisposition</th>\n",
       "      <th>koi_score</th>\n",
       "      <th>koi_fpflag_nt</th>\n",
       "      <th>...</th>\n",
       "      <th>koi_dicco_mdec</th>\n",
       "      <th>koi_dicco_mdec_err</th>\n",
       "      <th>koi_dicco_msky</th>\n",
       "      <th>koi_dicco_msky_err</th>\n",
       "      <th>koi_dikco_mra</th>\n",
       "      <th>koi_dikco_mra_err</th>\n",
       "      <th>koi_dikco_mdec</th>\n",
       "      <th>koi_dikco_mdec_err</th>\n",
       "      <th>koi_dikco_msky</th>\n",
       "      <th>koi_dikco_msky_err</th>\n",
       "    </tr>\n",
       "  </thead>\n",
       "  <tbody>\n",
       "    <tr>\n",
       "      <th>0</th>\n",
       "      <td>1</td>\n",
       "      <td>10797460</td>\n",
       "      <td>K00752.01</td>\n",
       "      <td>Kepler-227 b</td>\n",
       "      <td>CONFIRMED</td>\n",
       "      <td>Done</td>\n",
       "      <td>2018-08-16</td>\n",
       "      <td>CANDIDATE</td>\n",
       "      <td>1.000</td>\n",
       "      <td>0</td>\n",
       "      <td>...</td>\n",
       "      <td>0.200</td>\n",
       "      <td>0.160</td>\n",
       "      <td>0.200</td>\n",
       "      <td>0.170</td>\n",
       "      <td>0.080</td>\n",
       "      <td>0.130</td>\n",
       "      <td>0.310</td>\n",
       "      <td>0.170</td>\n",
       "      <td>0.320</td>\n",
       "      <td>0.160</td>\n",
       "    </tr>\n",
       "    <tr>\n",
       "      <th>1</th>\n",
       "      <td>2</td>\n",
       "      <td>10797460</td>\n",
       "      <td>K00752.02</td>\n",
       "      <td>Kepler-227 c</td>\n",
       "      <td>CONFIRMED</td>\n",
       "      <td>Done</td>\n",
       "      <td>2018-08-16</td>\n",
       "      <td>CANDIDATE</td>\n",
       "      <td>0.969</td>\n",
       "      <td>0</td>\n",
       "      <td>...</td>\n",
       "      <td>0.000</td>\n",
       "      <td>0.480</td>\n",
       "      <td>0.390</td>\n",
       "      <td>0.360</td>\n",
       "      <td>0.490</td>\n",
       "      <td>0.340</td>\n",
       "      <td>0.120</td>\n",
       "      <td>0.730</td>\n",
       "      <td>0.500</td>\n",
       "      <td>0.450</td>\n",
       "    </tr>\n",
       "    <tr>\n",
       "      <th>2</th>\n",
       "      <td>3</td>\n",
       "      <td>10811496</td>\n",
       "      <td>K00753.01</td>\n",
       "      <td>NaN</td>\n",
       "      <td>CANDIDATE</td>\n",
       "      <td>Done</td>\n",
       "      <td>2018-08-16</td>\n",
       "      <td>CANDIDATE</td>\n",
       "      <td>0.000</td>\n",
       "      <td>0</td>\n",
       "      <td>...</td>\n",
       "      <td>-0.034</td>\n",
       "      <td>0.070</td>\n",
       "      <td>0.042</td>\n",
       "      <td>0.072</td>\n",
       "      <td>0.002</td>\n",
       "      <td>0.071</td>\n",
       "      <td>-0.027</td>\n",
       "      <td>0.074</td>\n",
       "      <td>0.027</td>\n",
       "      <td>0.074</td>\n",
       "    </tr>\n",
       "    <tr>\n",
       "      <th>3</th>\n",
       "      <td>4</td>\n",
       "      <td>10848459</td>\n",
       "      <td>K00754.01</td>\n",
       "      <td>NaN</td>\n",
       "      <td>FALSE POSITIVE</td>\n",
       "      <td>Done</td>\n",
       "      <td>2018-08-16</td>\n",
       "      <td>FALSE POSITIVE</td>\n",
       "      <td>0.000</td>\n",
       "      <td>0</td>\n",
       "      <td>...</td>\n",
       "      <td>0.147</td>\n",
       "      <td>0.078</td>\n",
       "      <td>0.289</td>\n",
       "      <td>0.079</td>\n",
       "      <td>-0.257</td>\n",
       "      <td>0.072</td>\n",
       "      <td>0.099</td>\n",
       "      <td>0.077</td>\n",
       "      <td>0.276</td>\n",
       "      <td>0.076</td>\n",
       "    </tr>\n",
       "    <tr>\n",
       "      <th>4</th>\n",
       "      <td>5</td>\n",
       "      <td>10854555</td>\n",
       "      <td>K00755.01</td>\n",
       "      <td>Kepler-664 b</td>\n",
       "      <td>CONFIRMED</td>\n",
       "      <td>Done</td>\n",
       "      <td>2018-08-16</td>\n",
       "      <td>CANDIDATE</td>\n",
       "      <td>1.000</td>\n",
       "      <td>0</td>\n",
       "      <td>...</td>\n",
       "      <td>-0.090</td>\n",
       "      <td>0.180</td>\n",
       "      <td>0.100</td>\n",
       "      <td>0.140</td>\n",
       "      <td>0.070</td>\n",
       "      <td>0.180</td>\n",
       "      <td>0.020</td>\n",
       "      <td>0.160</td>\n",
       "      <td>0.070</td>\n",
       "      <td>0.200</td>\n",
       "    </tr>\n",
       "  </tbody>\n",
       "</table>\n",
       "<p>5 rows × 141 columns</p>\n",
       "</div>"
      ],
      "text/plain": [
       "   rowid     kepid kepoi_name   kepler_name koi_disposition koi_vet_stat  \\\n",
       "0      1  10797460  K00752.01  Kepler-227 b       CONFIRMED         Done   \n",
       "1      2  10797460  K00752.02  Kepler-227 c       CONFIRMED         Done   \n",
       "2      3  10811496  K00753.01           NaN       CANDIDATE         Done   \n",
       "3      4  10848459  K00754.01           NaN  FALSE POSITIVE         Done   \n",
       "4      5  10854555  K00755.01  Kepler-664 b       CONFIRMED         Done   \n",
       "\n",
       "  koi_vet_date koi_pdisposition  koi_score  koi_fpflag_nt  ...  \\\n",
       "0   2018-08-16        CANDIDATE      1.000              0  ...   \n",
       "1   2018-08-16        CANDIDATE      0.969              0  ...   \n",
       "2   2018-08-16        CANDIDATE      0.000              0  ...   \n",
       "3   2018-08-16   FALSE POSITIVE      0.000              0  ...   \n",
       "4   2018-08-16        CANDIDATE      1.000              0  ...   \n",
       "\n",
       "   koi_dicco_mdec  koi_dicco_mdec_err  koi_dicco_msky koi_dicco_msky_err  \\\n",
       "0           0.200               0.160           0.200              0.170   \n",
       "1           0.000               0.480           0.390              0.360   \n",
       "2          -0.034               0.070           0.042              0.072   \n",
       "3           0.147               0.078           0.289              0.079   \n",
       "4          -0.090               0.180           0.100              0.140   \n",
       "\n",
       "  koi_dikco_mra  koi_dikco_mra_err  koi_dikco_mdec  koi_dikco_mdec_err  \\\n",
       "0         0.080              0.130           0.310               0.170   \n",
       "1         0.490              0.340           0.120               0.730   \n",
       "2         0.002              0.071          -0.027               0.074   \n",
       "3        -0.257              0.072           0.099               0.077   \n",
       "4         0.070              0.180           0.020               0.160   \n",
       "\n",
       "   koi_dikco_msky  koi_dikco_msky_err  \n",
       "0           0.320               0.160  \n",
       "1           0.500               0.450  \n",
       "2           0.027               0.074  \n",
       "3           0.276               0.076  \n",
       "4           0.070               0.200  \n",
       "\n",
       "[5 rows x 141 columns]"
      ]
     },
     "execution_count": 2,
     "metadata": {},
     "output_type": "execute_result"
    }
   ],
   "source": [
    "data = pd.read_csv(\"KeplarData_NcolDesc.csv\", header=0)\n",
    "data.head()"
   ]
  },
  {
   "cell_type": "markdown",
   "metadata": {},
   "source": [
    "The complete data is now stored in a pandas dataframe object. We will create two new dataframes for each of the future MySQL tables with the wanted columns for each respective dataframe."
   ]
  },
  {
   "cell_type": "code",
   "execution_count": 3,
   "metadata": {},
   "outputs": [],
   "source": [
    "# List of attributes wanted for each table\n",
    "koiObjectsCols = [\"kepoi_name\", \"kepid\", \"koi_disposition\", \"koi_score\"]\n",
    "transitPropertiesCols = [\"kepoi_name\", \"kepid\", \"koi_period\", \"koi_prad\",\\\n",
    "                         \"koi_sma\", \"koi_teq\", \"koi_ror\", \"koi_dor\"]\n",
    "stellarObjectsCols = [\"kepid\", \"koi_steff\", \"koi_slogg\", \"koi_smet\",\\\n",
    "                      \"koi_srad\", \"koi_smass\", \"koi_srho\", \"koi_count\"]"
   ]
  },
  {
   "cell_type": "markdown",
   "metadata": {},
   "source": [
    "#### Kepler Objects of Interest (koi) table\n",
    "\n",
    "The koi table will contain all the koi objects observed in this dataset. It will store the unique_id (`kepid`), the unique kepler name (`kepoi_name`) which contains the host star and the unique transit object number, whether the transit object is confirmed to exist (`koi_disposition`) and the confidence level that objects are exoplanets (`koi_score`).\n",
    "\n",
    "The `kepoi_name` is of the form\n",
    "$$\\text{KXXXXX.DD}$$\n",
    "where XXXXX denoted the host star id, and DD denotes the unique transit object."
   ]
  },
  {
   "cell_type": "code",
   "execution_count": 4,
   "metadata": {},
   "outputs": [],
   "source": [
    "koiObjects = data[koiObjectsCols].copy()"
   ]
  },
  {
   "cell_type": "code",
   "execution_count": 5,
   "metadata": {},
   "outputs": [
    {
     "data": {
      "text/html": [
       "<div>\n",
       "<style scoped>\n",
       "    .dataframe tbody tr th:only-of-type {\n",
       "        vertical-align: middle;\n",
       "    }\n",
       "\n",
       "    .dataframe tbody tr th {\n",
       "        vertical-align: top;\n",
       "    }\n",
       "\n",
       "    .dataframe thead th {\n",
       "        text-align: right;\n",
       "    }\n",
       "</style>\n",
       "<table border=\"1\" class=\"dataframe\">\n",
       "  <thead>\n",
       "    <tr style=\"text-align: right;\">\n",
       "      <th></th>\n",
       "      <th>kepoi_name</th>\n",
       "      <th>kepid</th>\n",
       "      <th>koi_disposition</th>\n",
       "      <th>koi_score</th>\n",
       "    </tr>\n",
       "  </thead>\n",
       "  <tbody>\n",
       "    <tr>\n",
       "      <th>0</th>\n",
       "      <td>K00752.01</td>\n",
       "      <td>10797460</td>\n",
       "      <td>CONFIRMED</td>\n",
       "      <td>1.000</td>\n",
       "    </tr>\n",
       "    <tr>\n",
       "      <th>1</th>\n",
       "      <td>K00752.02</td>\n",
       "      <td>10797460</td>\n",
       "      <td>CONFIRMED</td>\n",
       "      <td>0.969</td>\n",
       "    </tr>\n",
       "    <tr>\n",
       "      <th>2</th>\n",
       "      <td>K00753.01</td>\n",
       "      <td>10811496</td>\n",
       "      <td>CANDIDATE</td>\n",
       "      <td>0.000</td>\n",
       "    </tr>\n",
       "    <tr>\n",
       "      <th>3</th>\n",
       "      <td>K00754.01</td>\n",
       "      <td>10848459</td>\n",
       "      <td>FALSE POSITIVE</td>\n",
       "      <td>0.000</td>\n",
       "    </tr>\n",
       "    <tr>\n",
       "      <th>4</th>\n",
       "      <td>K00755.01</td>\n",
       "      <td>10854555</td>\n",
       "      <td>CONFIRMED</td>\n",
       "      <td>1.000</td>\n",
       "    </tr>\n",
       "  </tbody>\n",
       "</table>\n",
       "</div>"
      ],
      "text/plain": [
       "  kepoi_name     kepid koi_disposition  koi_score\n",
       "0  K00752.01  10797460       CONFIRMED      1.000\n",
       "1  K00752.02  10797460       CONFIRMED      0.969\n",
       "2  K00753.01  10811496       CANDIDATE      0.000\n",
       "3  K00754.01  10848459  FALSE POSITIVE      0.000\n",
       "4  K00755.01  10854555       CONFIRMED      1.000"
      ]
     },
     "execution_count": 5,
     "metadata": {},
     "output_type": "execute_result"
    }
   ],
   "source": [
    "koiObjects.head()"
   ]
  },
  {
   "cell_type": "markdown",
   "metadata": {},
   "source": [
    "#### Transit Properties Dataframe Creation\n",
    "\n",
    "The transit properties dataframe contains information for the transit objects and thier orbits and physical properties. Each transit object is given a unique kepler identification number `kepid`. Just like in the koi_objects table, we will use this as the primary key."
   ]
  },
  {
   "cell_type": "code",
   "execution_count": 6,
   "metadata": {},
   "outputs": [],
   "source": [
    "# Create the Transit object dataframe\n",
    "transitProperties = data[transitPropertiesCols].copy()"
   ]
  },
  {
   "cell_type": "code",
   "execution_count": 7,
   "metadata": {},
   "outputs": [
    {
     "data": {
      "text/html": [
       "<div>\n",
       "<style scoped>\n",
       "    .dataframe tbody tr th:only-of-type {\n",
       "        vertical-align: middle;\n",
       "    }\n",
       "\n",
       "    .dataframe tbody tr th {\n",
       "        vertical-align: top;\n",
       "    }\n",
       "\n",
       "    .dataframe thead th {\n",
       "        text-align: right;\n",
       "    }\n",
       "</style>\n",
       "<table border=\"1\" class=\"dataframe\">\n",
       "  <thead>\n",
       "    <tr style=\"text-align: right;\">\n",
       "      <th></th>\n",
       "      <th>kepoi_name</th>\n",
       "      <th>kepid</th>\n",
       "      <th>koi_period</th>\n",
       "      <th>koi_prad</th>\n",
       "      <th>koi_sma</th>\n",
       "      <th>koi_teq</th>\n",
       "      <th>koi_ror</th>\n",
       "      <th>koi_dor</th>\n",
       "    </tr>\n",
       "  </thead>\n",
       "  <tbody>\n",
       "    <tr>\n",
       "      <th>0</th>\n",
       "      <td>K00752.01</td>\n",
       "      <td>10797460</td>\n",
       "      <td>9.488036</td>\n",
       "      <td>2.26</td>\n",
       "      <td>0.0853</td>\n",
       "      <td>793.0</td>\n",
       "      <td>0.022344</td>\n",
       "      <td>24.810</td>\n",
       "    </tr>\n",
       "    <tr>\n",
       "      <th>1</th>\n",
       "      <td>K00752.02</td>\n",
       "      <td>10797460</td>\n",
       "      <td>54.418383</td>\n",
       "      <td>2.83</td>\n",
       "      <td>0.2734</td>\n",
       "      <td>443.0</td>\n",
       "      <td>0.027954</td>\n",
       "      <td>77.900</td>\n",
       "    </tr>\n",
       "    <tr>\n",
       "      <th>2</th>\n",
       "      <td>K00753.01</td>\n",
       "      <td>10811496</td>\n",
       "      <td>19.899140</td>\n",
       "      <td>14.60</td>\n",
       "      <td>0.1419</td>\n",
       "      <td>638.0</td>\n",
       "      <td>0.154046</td>\n",
       "      <td>53.500</td>\n",
       "    </tr>\n",
       "    <tr>\n",
       "      <th>3</th>\n",
       "      <td>K00754.01</td>\n",
       "      <td>10848459</td>\n",
       "      <td>1.736952</td>\n",
       "      <td>33.46</td>\n",
       "      <td>0.0267</td>\n",
       "      <td>1395.0</td>\n",
       "      <td>0.387394</td>\n",
       "      <td>3.278</td>\n",
       "    </tr>\n",
       "    <tr>\n",
       "      <th>4</th>\n",
       "      <td>K00755.01</td>\n",
       "      <td>10854555</td>\n",
       "      <td>2.525592</td>\n",
       "      <td>2.75</td>\n",
       "      <td>0.0374</td>\n",
       "      <td>1406.0</td>\n",
       "      <td>0.024064</td>\n",
       "      <td>8.750</td>\n",
       "    </tr>\n",
       "  </tbody>\n",
       "</table>\n",
       "</div>"
      ],
      "text/plain": [
       "  kepoi_name     kepid  koi_period  koi_prad  koi_sma  koi_teq   koi_ror  \\\n",
       "0  K00752.01  10797460    9.488036      2.26   0.0853    793.0  0.022344   \n",
       "1  K00752.02  10797460   54.418383      2.83   0.2734    443.0  0.027954   \n",
       "2  K00753.01  10811496   19.899140     14.60   0.1419    638.0  0.154046   \n",
       "3  K00754.01  10848459    1.736952     33.46   0.0267   1395.0  0.387394   \n",
       "4  K00755.01  10854555    2.525592      2.75   0.0374   1406.0  0.024064   \n",
       "\n",
       "   koi_dor  \n",
       "0   24.810  \n",
       "1   77.900  \n",
       "2   53.500  \n",
       "3    3.278  \n",
       "4    8.750  "
      ]
     },
     "execution_count": 7,
     "metadata": {},
     "output_type": "execute_result"
    }
   ],
   "source": [
    "transitProperties.head()"
   ]
  },
  {
   "cell_type": "markdown",
   "metadata": {},
   "source": [
    "#### Stellar Object Dataframe Creation\n",
    "\n",
    "To create the `stellar_objects` dataframe, use the same process as for the `transit_object` dataframe, but then remove duplicate rows on the `kepid` attribute."
   ]
  },
  {
   "cell_type": "code",
   "execution_count": 8,
   "metadata": {},
   "outputs": [],
   "source": [
    "stellarObjects = data[stellarObjectsCols].copy()"
   ]
  },
  {
   "cell_type": "code",
   "execution_count": 9,
   "metadata": {},
   "outputs": [
    {
     "data": {
      "text/html": [
       "<div>\n",
       "<style scoped>\n",
       "    .dataframe tbody tr th:only-of-type {\n",
       "        vertical-align: middle;\n",
       "    }\n",
       "\n",
       "    .dataframe tbody tr th {\n",
       "        vertical-align: top;\n",
       "    }\n",
       "\n",
       "    .dataframe thead th {\n",
       "        text-align: right;\n",
       "    }\n",
       "</style>\n",
       "<table border=\"1\" class=\"dataframe\">\n",
       "  <thead>\n",
       "    <tr style=\"text-align: right;\">\n",
       "      <th></th>\n",
       "      <th>kepid</th>\n",
       "      <th>koi_steff</th>\n",
       "      <th>koi_slogg</th>\n",
       "      <th>koi_smet</th>\n",
       "      <th>koi_srad</th>\n",
       "      <th>koi_smass</th>\n",
       "      <th>koi_srho</th>\n",
       "      <th>koi_count</th>\n",
       "    </tr>\n",
       "  </thead>\n",
       "  <tbody>\n",
       "    <tr>\n",
       "      <th>0</th>\n",
       "      <td>10797460</td>\n",
       "      <td>5455.0</td>\n",
       "      <td>4.467</td>\n",
       "      <td>0.14</td>\n",
       "      <td>0.927</td>\n",
       "      <td>0.919</td>\n",
       "      <td>3.20796</td>\n",
       "      <td>2</td>\n",
       "    </tr>\n",
       "    <tr>\n",
       "      <th>2</th>\n",
       "      <td>10811496</td>\n",
       "      <td>5853.0</td>\n",
       "      <td>4.544</td>\n",
       "      <td>-0.18</td>\n",
       "      <td>0.868</td>\n",
       "      <td>0.961</td>\n",
       "      <td>7.29555</td>\n",
       "      <td>1</td>\n",
       "    </tr>\n",
       "    <tr>\n",
       "      <th>3</th>\n",
       "      <td>10848459</td>\n",
       "      <td>5805.0</td>\n",
       "      <td>4.564</td>\n",
       "      <td>-0.52</td>\n",
       "      <td>0.791</td>\n",
       "      <td>0.836</td>\n",
       "      <td>0.22080</td>\n",
       "      <td>1</td>\n",
       "    </tr>\n",
       "    <tr>\n",
       "      <th>4</th>\n",
       "      <td>10854555</td>\n",
       "      <td>6031.0</td>\n",
       "      <td>4.438</td>\n",
       "      <td>0.07</td>\n",
       "      <td>1.046</td>\n",
       "      <td>1.095</td>\n",
       "      <td>1.98635</td>\n",
       "      <td>1</td>\n",
       "    </tr>\n",
       "    <tr>\n",
       "      <th>5</th>\n",
       "      <td>10872983</td>\n",
       "      <td>6046.0</td>\n",
       "      <td>4.486</td>\n",
       "      <td>-0.08</td>\n",
       "      <td>0.972</td>\n",
       "      <td>1.053</td>\n",
       "      <td>0.67324</td>\n",
       "      <td>3</td>\n",
       "    </tr>\n",
       "  </tbody>\n",
       "</table>\n",
       "</div>"
      ],
      "text/plain": [
       "      kepid  koi_steff  koi_slogg  koi_smet  koi_srad  koi_smass  koi_srho  \\\n",
       "0  10797460     5455.0      4.467      0.14     0.927      0.919   3.20796   \n",
       "2  10811496     5853.0      4.544     -0.18     0.868      0.961   7.29555   \n",
       "3  10848459     5805.0      4.564     -0.52     0.791      0.836   0.22080   \n",
       "4  10854555     6031.0      4.438      0.07     1.046      1.095   1.98635   \n",
       "5  10872983     6046.0      4.486     -0.08     0.972      1.053   0.67324   \n",
       "\n",
       "   koi_count  \n",
       "0          2  \n",
       "2          1  \n",
       "3          1  \n",
       "4          1  \n",
       "5          3  "
      ]
     },
     "execution_count": 9,
     "metadata": {},
     "output_type": "execute_result"
    }
   ],
   "source": [
    "# Drop the duplicates\n",
    "stellarObjects.drop_duplicates(subset=\"kepid\", inplace=True)\n",
    "stellarObjects.head()"
   ]
  },
  {
   "cell_type": "markdown",
   "metadata": {},
   "source": [
    "## Cleaning\n",
    "\n",
    "#### Transit Properties Dataframe\n",
    "\n",
    "The transit object dataframe should not contain any duplicate primary keys. In the context of this dataset, a duplicate primary key would mean a duplicate observation. This is not helpful and would mess up the counts."
   ]
  },
  {
   "cell_type": "code",
   "execution_count": 10,
   "metadata": {},
   "outputs": [],
   "source": [
    "# Make sure there are no duplicate rows based on kepid (unique transit object)\n",
    "transitProperties.drop_duplicates(subset=\"kepoi_name\", inplace=True)"
   ]
  },
  {
   "cell_type": "markdown",
   "metadata": {},
   "source": [
    "The Rows with all null values or NaN values are not going to be helpful. However, If some attributes are filled, kepping the row is still acceptable. The data is transit properties. If some properties are unknown, the rest of the data is likely to still be accurate."
   ]
  },
  {
   "cell_type": "code",
   "execution_count": 11,
   "metadata": {},
   "outputs": [
    {
     "data": {
      "text/plain": [
       "kepoi_name    None\n",
       "kepid         None\n",
       "koi_period    None\n",
       "koi_prad      None\n",
       "koi_sma       None\n",
       "koi_teq       None\n",
       "koi_ror       None\n",
       "koi_dor       None\n",
       "dtype: object"
      ]
     },
     "execution_count": 11,
     "metadata": {},
     "output_type": "execute_result"
    }
   ],
   "source": [
    "# Drop rows with all null values\n",
    "transitProperties.dropna(how='all', inplace=True)\n",
    "transitProperties.replace(np.NaN, None, inplace=True) # Change np.NaN -> None\n",
    "#transitProperties[transitProperties.isna().any(axis=1)]"
   ]
  },
  {
   "cell_type": "code",
   "execution_count": 12,
   "metadata": {},
   "outputs": [
    {
     "name": "stdout",
     "output_type": "stream",
     "text": [
      "kepoi_name     object\n",
      "kepid           int64\n",
      "koi_period    float64\n",
      "koi_prad      float64\n",
      "koi_sma       float64\n",
      "koi_teq       float64\n",
      "koi_ror       float64\n",
      "koi_dor       float64\n",
      "dtype: object\n"
     ]
    }
   ],
   "source": [
    "# Type assertion\n",
    "print(transitProperties.dtypes)"
   ]
  },
  {
   "cell_type": "markdown",
   "metadata": {},
   "source": [
    "### Stellar Objects Dataframe\n",
    "\n",
    "All duplicate rows have already been removed when the table was created."
   ]
  },
  {
   "cell_type": "code",
   "execution_count": 13,
   "metadata": {},
   "outputs": [
    {
     "data": {
      "text/plain": [
       "kepid        None\n",
       "koi_steff    None\n",
       "koi_slogg    None\n",
       "koi_smet     None\n",
       "koi_srad     None\n",
       "koi_smass    None\n",
       "koi_srho     None\n",
       "koi_count    None\n",
       "dtype: object"
      ]
     },
     "execution_count": 13,
     "metadata": {},
     "output_type": "execute_result"
    }
   ],
   "source": [
    "# Drop rows with null values\n",
    "stellarObjects.dropna(how='all', inplace=True)\n",
    "stellarObjects.replace(np.NaN, None, inplace=True)\n",
    "#stellarObjects[stellarObjects.isna().any(axis=1)]"
   ]
  },
  {
   "cell_type": "code",
   "execution_count": 14,
   "metadata": {},
   "outputs": [
    {
     "name": "stdout",
     "output_type": "stream",
     "text": [
      "kepid          int64\n",
      "koi_steff    float64\n",
      "koi_slogg    float64\n",
      "koi_smet     float64\n",
      "koi_srad     float64\n",
      "koi_smass    float64\n",
      "koi_srho     float64\n",
      "koi_count      int64\n",
      "dtype: object\n"
     ]
    }
   ],
   "source": [
    "# Type assertion\n",
    "print(stellarObjects.dtypes)"
   ]
  },
  {
   "cell_type": "markdown",
   "metadata": {},
   "source": [
    "#### Koi Disposition table\n",
    "\n",
    "The disposation table will follow the same cleaning process as the transitProperties table"
   ]
  },
  {
   "cell_type": "code",
   "execution_count": 15,
   "metadata": {},
   "outputs": [],
   "source": [
    "# Make sure there are no duplicate rows based on kepid\n",
    "koiObjects.drop_duplicates(subset=\"kepoi_name\", inplace=True)"
   ]
  },
  {
   "cell_type": "code",
   "execution_count": 16,
   "metadata": {},
   "outputs": [
    {
     "data": {
      "text/plain": [
       "kepoi_name         None\n",
       "kepid              None\n",
       "koi_disposition    None\n",
       "koi_score          None\n",
       "dtype: object"
      ]
     },
     "execution_count": 16,
     "metadata": {},
     "output_type": "execute_result"
    }
   ],
   "source": [
    "# Drop rows with all null values\n",
    "koiObjects.dropna(how='all', inplace=True)\n",
    "koiObjects.replace(np.NaN, None, inplace=True)\n",
    "#koiObjects[koiObjects.isna().any(axis=1)]"
   ]
  },
  {
   "cell_type": "code",
   "execution_count": 17,
   "metadata": {},
   "outputs": [
    {
     "name": "stdout",
     "output_type": "stream",
     "text": [
      "kepoi_name          object\n",
      "kepid                int64\n",
      "koi_disposition     object\n",
      "koi_score          float64\n",
      "dtype: object\n"
     ]
    }
   ],
   "source": [
    "# Type assertion\n",
    "print(koiObjects.dtypes)"
   ]
  },
  {
   "cell_type": "markdown",
   "metadata": {},
   "source": [
    "<hr>\n",
    "\n",
    "### Connect to kepler object of interest (koi) database"
   ]
  },
  {
   "cell_type": "markdown",
   "metadata": {},
   "source": [
    "This section require the mysql package to connect to the my sql server."
   ]
  },
  {
   "cell_type": "code",
   "execution_count": 18,
   "metadata": {},
   "outputs": [
    {
     "name": "stdout",
     "output_type": "stream",
     "text": [
      "Connected to MySQL sever version 8.0.22\n"
     ]
    }
   ],
   "source": [
    "# Connect to MySQL Server\n",
    "try:\n",
    "    db = connector.connect(\n",
    "        host=\"localhost\",\n",
    "        user=\"root\",\n",
    "        password=\"root\",\n",
    "        database='koi'\n",
    "    )\n",
    "    if db.is_connected():\n",
    "        logging.info(\"Connected to database: {}\".format(db.database))\n",
    "        db_server_info = db.get_server_info()\n",
    "        print(\"Connected to MySQL sever version\", db_server_info)\n",
    "        \n",
    "        # Create a cursor object\n",
    "        c = db.cursor()\n",
    "\n",
    "except Error as e:\n",
    "    logging.warning(\"Connection to database failed\")\n",
    "    print(\"Error while connecting to mySQL\", e)"
   ]
  },
  {
   "cell_type": "code",
   "execution_count": 19,
   "metadata": {},
   "outputs": [],
   "source": [
    "def execute(command, commit=False, verbose=True):\n",
    "    \"\"\" Streamline the execute and fetch results with cursor object \"\"\"\n",
    "    c.execute(command)\n",
    "    logging.debug(\"EXECUTE ORDER 66: \", command)\n",
    "    try:\n",
    "        result = c.fetchall()\n",
    "        if verbose:\n",
    "            pprint(result)\n",
    "        return result\n",
    "    except:\n",
    "        if verbose:\n",
    "            print(\"No fetched results to Print but the command worked!!\")\n",
    "        else:\n",
    "            pass\n",
    "    \n",
    "    if commit:\n",
    "        db.commit()\n",
    "        logging.debug(\"COMMITED LAST COMMAND ^\")\n",
    "    \n"
   ]
  },
  {
   "cell_type": "markdown",
   "metadata": {},
   "source": [
    "### Importing to MySQL Schema\n",
    "\n",
    "The database schema was created first. Then add the tables that the pandas dataframes will be imported into."
   ]
  },
  {
   "cell_type": "code",
   "execution_count": 20,
   "metadata": {},
   "outputs": [],
   "source": [
    "stellar_table_creation = \"\"\"\n",
    "CREATE TABLE IF NOT EXISTS Stellar_Objects(\n",
    "\tkepid INT PRIMARY KEY NOT NULL,\n",
    "\tkoi_steff FLOAT,\n",
    "\tkoi_slogg FLOAT,\n",
    "    koi_smet FLOAT,\n",
    "    koi_srad FLOAT,\n",
    "    koi_smass FLOAT,\n",
    "    koi_srho FLOAT,\n",
    "    koi_count INT\n",
    ");\"\"\"\n",
    "transit_table_creation = \"\"\"\n",
    "CREATE TABLE IF NOT EXISTS Transit_Properties(\n",
    "\tkepoi_name CHAR(9) PRIMARY KEY NOT NULL,\n",
    "\tkepid INT,\n",
    "\t\tFOREIGN KEY (kepid) REFERENCES Stellar_Objects(kepid),\n",
    "\tkoi_period FLOAT,\n",
    "    koi_prad FLOAT,\n",
    "    koi_sma FLOAT,\n",
    "    koi_teq FLOAT,\n",
    "\tkoi_ror FLOAT,\n",
    "    koi_dor FLOAT\n",
    ");\n",
    "\"\"\"\n",
    "koi_table_creation = \"\"\"\n",
    "CREATE TABLE IF NOT EXISTS koi_disposition(\n",
    "\tkepoi_name CHAR(9) PRIMARY KEY NOT NULL,\n",
    "\tkepid INT,\n",
    "\t\tFOREIGN KEY (kepid) REFERENCES Stellar_Objects(kepid),\n",
    "    koi_disposition SET('CONFIRMED', 'CANDIDATE', 'FALSE POSITIVE'),\n",
    "    koi_score FLOAT\n",
    ");\n",
    "\"\"\""
   ]
  },
  {
   "cell_type": "code",
   "execution_count": 21,
   "metadata": {},
   "outputs": [
    {
     "name": "stdout",
     "output_type": "stream",
     "text": [
      "No fetched results to Print but the command worked!!\n"
     ]
    }
   ],
   "source": [
    "logging.info(\"Attempting to create stellar_objects table...\")\n",
    "execute(stellar_table_creation, commit=True)\n",
    "logging.info(\"\\t Table created sucessfully or table already existed\")"
   ]
  },
  {
   "cell_type": "code",
   "execution_count": 22,
   "metadata": {},
   "outputs": [
    {
     "name": "stdout",
     "output_type": "stream",
     "text": [
      "No fetched results to Print but the command worked!!\n"
     ]
    }
   ],
   "source": [
    "logging.info(\"Attempting to create koi_disposition table...\")\n",
    "execute(koi_table_creation, commit=True)\n",
    "logging.info(\"\\t Table created sucessfully or table already existed\")"
   ]
  },
  {
   "cell_type": "code",
   "execution_count": 23,
   "metadata": {},
   "outputs": [
    {
     "name": "stdout",
     "output_type": "stream",
     "text": [
      "No fetched results to Print but the command worked!!\n"
     ]
    }
   ],
   "source": [
    "logging.info(\"Attempting to create transit_objects table...\")\n",
    "execute(transit_table_creation, commit=True)\n",
    "logging.info(\"\\t Table created sucessfully or table already existed\")"
   ]
  },
  {
   "cell_type": "code",
   "execution_count": 24,
   "metadata": {},
   "outputs": [],
   "source": [
    "#execute(\"DESCRIBE stellar_objects\")"
   ]
  },
  {
   "cell_type": "code",
   "execution_count": 25,
   "metadata": {},
   "outputs": [],
   "source": [
    "#execute(\"DESCRIBE koi_disposition\")"
   ]
  },
  {
   "cell_type": "code",
   "execution_count": 26,
   "metadata": {},
   "outputs": [],
   "source": [
    "#execute(\"DESCRIBE transit_properties\")"
   ]
  },
  {
   "cell_type": "markdown",
   "metadata": {},
   "source": [
    "Now we can define a function for us to import that data from the pandas dataframe into the MySQL databse."
   ]
  },
  {
   "cell_type": "code",
   "execution_count": 27,
   "metadata": {},
   "outputs": [
    {
     "ename": "SyntaxError",
     "evalue": "unexpected character after line continuation character (<ipython-input-27-c6847adf1707>, line 10)",
     "output_type": "error",
     "traceback": [
      "\u001b[1;36m  File \u001b[1;32m\"<ipython-input-27-c6847adf1707>\"\u001b[1;36m, line \u001b[1;32m10\u001b[0m\n\u001b[1;33m    commit=commit_every_time,\\ # condition for commiting insertion in each\u001b[0m\n\u001b[1;37m                                                                           \n^\u001b[0m\n\u001b[1;31mSyntaxError\u001b[0m\u001b[1;31m:\u001b[0m unexpected character after line continuation character\n"
     ]
    }
   ],
   "source": [
    "def insert(dataframe, table_name, table_columns, commit_every_time=True):\n",
    "    \"\"\" Takes a pandas dataframe and inserts into a MySQL table\n",
    "        called table_name \n",
    "    \"\"\"\n",
    "    logging.info(\"Starting import of data to table {}...\".format(table_name))\n",
    "    for row in dataframe.values:\n",
    "        row_tuple = str(tuple(row))\n",
    "        try:\n",
    "            execute(\"INSERT INTO {} {} VALUES {};\".format(table_name, table_columns, row_tuple),\\\n",
    "                    commit=commit_every_time,\\ # condition for commiting insertion in each \n",
    "                    verbose=False)\n",
    "            logging.debug(\"Inserted {} into {}\".format(row_tuple, table_name))\n",
    "        except Error as e:\n",
    "            logging.warning(\"Row not inserted\")\n",
    "    logging.info(\"\\t Import done\")"
   ]
  },
  {
   "cell_type": "code",
   "execution_count": null,
   "metadata": {},
   "outputs": [],
   "source": [
    "s_cols = \"(kepid, koi_steff, koi_slogg, koi_smet, koi_srad, koi_smass, koi_srho, koi_count)\"\n",
    "insert(stellarObjects, \"stellar_objects\", s_cols)"
   ]
  },
  {
   "cell_type": "code",
   "execution_count": null,
   "metadata": {},
   "outputs": [],
   "source": [
    "t_cols = \"(kepoi_name, kepid, koi_period, koi_prad, koi_sma, koi_teq, koi_ror, koi_dor)\"\n",
    "insert(transitProperties, \"transit_properties\", t_cols)"
   ]
  },
  {
   "cell_type": "code",
   "execution_count": null,
   "metadata": {},
   "outputs": [],
   "source": [
    "d_cols = \"(kepoi_name, kepid, koi_disposition, koi_score)\"\n",
    "insert(koiObjects, \"koi_disposition\", d_cols)"
   ]
  },
  {
   "cell_type": "code",
   "execution_count": null,
   "metadata": {},
   "outputs": [],
   "source": [
    "db.commit()"
   ]
  },
  {
   "cell_type": "code",
   "execution_count": null,
   "metadata": {},
   "outputs": [],
   "source": [
    "#execute(\"DELETE FROM koi_disposition\")\n",
    "#execute(\"DELETE FROM transit_properties\")\n",
    "#execute(\"DELETE FROM stellar_objects\")"
   ]
  },
  {
   "cell_type": "code",
   "execution_count": null,
   "metadata": {},
   "outputs": [],
   "source": [
    "db.close()"
   ]
  },
  {
   "cell_type": "markdown",
   "metadata": {},
   "source": [
    "### References\n",
    "\n",
    "NASA. Nasa exoplanet archive Cumulative kepler object of interest table, 2017. data retrieved from https://exoplanetarchive.ipac.caltech.edu/cgi-bin/TblView/nph-tblView?app=ExoTbls&config=koi."
   ]
  }
 ],
 "metadata": {
  "kernelspec": {
   "display_name": "Python 3",
   "language": "python",
   "name": "python3"
  },
  "language_info": {
   "codemirror_mode": {
    "name": "ipython",
    "version": 3
   },
   "file_extension": ".py",
   "mimetype": "text/x-python",
   "name": "python",
   "nbconvert_exporter": "python",
   "pygments_lexer": "ipython3",
   "version": "3.8.5"
  }
 },
 "nbformat": 4,
 "nbformat_minor": 4
}
